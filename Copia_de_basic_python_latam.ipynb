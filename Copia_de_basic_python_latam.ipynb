{
  "nbformat": 4,
  "nbformat_minor": 0,
  "metadata": {
    "colab": {
      "provenance": [],
      "include_colab_link": true
    },
    "kernelspec": {
      "name": "python3",
      "display_name": "Python 3"
    },
    "language_info": {
      "name": "python"
    }
  },
  "cells": [
    {
      "cell_type": "markdown",
      "metadata": {
        "id": "view-in-github",
        "colab_type": "text"
      },
      "source": [
        "<a href=\"https://colab.research.google.com/github/Gaby46Pe/AprendiendoGit/blob/master/Copia_de_basic_python_latam.ipynb\" target=\"_parent\"><img src=\"https://colab.research.google.com/assets/colab-badge.svg\" alt=\"Open In Colab\"/></a>"
      ]
    },
    {
      "cell_type": "markdown",
      "source": [
        "# 1. Bases del Lenguaje"
      ],
      "metadata": {
        "id": "n0yPArSr8T2t"
      }
    },
    {
      "cell_type": "markdown",
      "source": [
        "### Bases y sintaxis"
      ],
      "metadata": {
        "id": "7cGlttjgDne_"
      }
    },
    {
      "cell_type": "markdown",
      "source": [
        "| Concepto | Código de Ejemplo | Explicación |\n",
        "| :--- | :--- | :--- |\n",
        "| **Primer Programa** | `print(\"¡Hola, clase!\")` | Muestra un mensaje en la consola. |\n",
        "| **Comentarios** | `# Esto es un comentario, Python lo ignora` | Útil para documentar el código. |\n",
        "| **Sintaxis y Sangría** | `if 5 > 2:`<br><br>`     print(\"Cinco es mayor que dos\")` | La **sangría (4 espacios)** es obligatoria. Define bloques de código. |"
      ],
      "metadata": {
        "id": "-2nzKwYf8-H1"
      }
    },
    {
      "cell_type": "code",
      "source": [
        "print(\"¡Hola, clase!\")"
      ],
      "metadata": {
        "colab": {
          "base_uri": "https://localhost:8080/"
        },
        "collapsed": true,
        "id": "eAs8Hmx4lnux",
        "outputId": "e278973e-463b-4fdd-aaad-fb29d88a4f90"
      },
      "execution_count": null,
      "outputs": [
        {
          "output_type": "stream",
          "name": "stdout",
          "text": [
            "¡Hola, clase!\n"
          ]
        }
      ]
    },
    {
      "cell_type": "code",
      "source": [
        "nombre = input(\"¿Cuál es tu nombre? \")\n",
        "print(\"Hola,\", nombre)"
      ],
      "metadata": {
        "colab": {
          "base_uri": "https://localhost:8080/"
        },
        "id": "98KyPEQplhXk",
        "outputId": "61910e71-1fb6-45af-8997-5118a1ee91e3"
      },
      "execution_count": null,
      "outputs": [
        {
          "output_type": "stream",
          "name": "stdout",
          "text": [
            "¿Cuál es tu nombre? Wil\n",
            "Hola, Wil\n"
          ]
        }
      ]
    },
    {
      "cell_type": "code",
      "source": [
        "if 5 > 2:\n",
        "    print(\"Cinco es mayor que dos\")"
      ],
      "metadata": {
        "id": "IXP2p6idmozu"
      },
      "execution_count": null,
      "outputs": []
    },
    {
      "cell_type": "markdown",
      "source": [
        "### Variables y Tipos de Datos"
      ],
      "metadata": {
        "id": "fT1GvCp7-xhw"
      }
    },
    {
      "cell_type": "markdown",
      "source": [
        "| Tipo de Dato | Concepto | Código de Ejemplo |\n",
        "| :--- | :--- | :--- |\n",
        "| **Entero (`int`)** | Números sin decimales. | `edad = 30` |\n",
        "| **Flotante (`float`)** | Números con decimales. | `precio = 19.99` |\n",
        "| **Cadena (`str`)** | Texto. Se usa con comillas. | `nombre = \"Ana\"` |\n",
        "| **Booleano (`bool`)** | Valores lógicos: `True` o `False`. | `es_estudiante = True` |\n",
        "| **Inspección** | Ver el tipo de dato. | `print(type(edad))` |"
      ],
      "metadata": {
        "id": "RWETNqQu-XQM"
      }
    },
    {
      "cell_type": "markdown",
      "source": [
        "### Operadores Básicos"
      ],
      "metadata": {
        "id": "pWseYWWt_xVk"
      }
    },
    {
      "cell_type": "markdown",
      "source": [
        "| Concepto | Operador | Código de Ejemplo | Resultado |\n",
        "| :--- | :--- | :--- | :--- |\n",
        "| **Aritméticos** | Suma, Resta, Mult, Div | `print(10 + 5)`<br><br>`print(10 / 3)` | `15`<br><br>`3.333...` |\n",
        "| **Especiales** | Potencia, División Entera | `print(2 ** 3)`<br><br>`print(10 // 3)` | `8`<br><br>`3` |\n",
        "| **Comparación** | Igualdad, Mayor que | `print(edad == 30)`<br><br>`print(precio > 20)` | `True`<br><br>`False` |\n",
        "| **Lógicos** | AND | `print(True and False)` | `False` |\n",
        "| **Lógicos** | OR | `print(True or False)` | `True` |"
      ],
      "metadata": {
        "id": "X0Ggv6up_FJB"
      }
    },
    {
      "cell_type": "code",
      "source": [
        "cuenta = 80 // 26\n",
        "print(cuenta)"
      ],
      "metadata": {
        "colab": {
          "base_uri": "https://localhost:8080/"
        },
        "id": "FnemWpG0n0MZ",
        "outputId": "6e2078c7-a79a-43b1-8222-09f178c31aac"
      },
      "execution_count": null,
      "outputs": [
        {
          "output_type": "stream",
          "name": "stdout",
          "text": [
            "3\n"
          ]
        }
      ]
    },
    {
      "cell_type": "markdown",
      "source": [
        "### Listas (La Colección más Común)"
      ],
      "metadata": {
        "id": "3Pl5pPAwBe3F"
      }
    },
    {
      "cell_type": "markdown",
      "source": [
        "| Concepto | Código de Ejemplo | Explicación |\n",
        "| :--- | :--- | :--- |\n",
        "| **Creación** | `frutas = [\"manzana\", \"banana\", \"kiwi\"]` | Colección ordenada y **mutable** (se puede cambiar). |\n",
        "| **Acceso** | `print(frutas[1])` | Acceso por índice (empieza en **0**). |\n",
        "| **Métodos** | `frutas.append(\"naranja\")`<br><br>`frutas.pop(0)` | Agregar al final.<br>Eliminar por índice. |\n",
        "| **Tamaño** | `print(len(frutas))` | Obtener la cantidad de elementos. |"
      ],
      "metadata": {
        "id": "i5EaIuogBTLK"
      }
    },
    {
      "cell_type": "code",
      "source": [
        "frutas = [\"manzana\", \"banana\", \"kiwi\"]\n",
        "print(frutas[0])"
      ],
      "metadata": {
        "colab": {
          "base_uri": "https://localhost:8080/"
        },
        "id": "WTCLsl2xo4jV",
        "outputId": "310d198f-c54c-404a-ae1c-ebe087cef10c"
      },
      "execution_count": null,
      "outputs": [
        {
          "output_type": "stream",
          "name": "stdout",
          "text": [
            "manzana\n"
          ]
        }
      ]
    },
    {
      "cell_type": "code",
      "source": [
        "frutas.append(\"naranja\")\n",
        "print(frutas)\n"
      ],
      "metadata": {
        "colab": {
          "base_uri": "https://localhost:8080/"
        },
        "id": "Rwp9k0YHpiKv",
        "outputId": "ef35a9ac-9b82-49cb-8366-34f94f924523"
      },
      "execution_count": null,
      "outputs": [
        {
          "output_type": "stream",
          "name": "stdout",
          "text": [
            "['manzana', 'banana', 'kiwi', 'naranja']\n"
          ]
        }
      ]
    },
    {
      "cell_type": "code",
      "source": [
        "frutas.pop(2)\n",
        "print(frutas)"
      ],
      "metadata": {
        "colab": {
          "base_uri": "https://localhost:8080/"
        },
        "id": "uJV8XWi4qMBs",
        "outputId": "71222336-52b6-4972-9ee7-c8e9c856f331"
      },
      "execution_count": null,
      "outputs": [
        {
          "output_type": "stream",
          "name": "stdout",
          "text": [
            "['manzana', 'banana']\n"
          ]
        }
      ]
    },
    {
      "cell_type": "markdown",
      "source": [
        "### Tuplas y Diccionarios"
      ],
      "metadata": {
        "id": "yeaulNSdAlt9"
      }
    },
    {
      "cell_type": "markdown",
      "source": [
        "| Colección | Concepto | Código de Ejemplo |\n",
        "| :--- | :--- | :--- |\n",
        "| **Tupla** | Colección ordenada e **inmutable**. | `coordenadas = (10, 25)`<br><br>`print(coordenadas[0])` |\n",
        "| **Diccionario** | Pares de **clave-valor**. Desordenada y mutable. | `persona = {`<br><br>`  \"nombre\": \"Leo\",`<br><br>`  \"edad\": 25`<br><br>`}` |\n",
        "| **Acceso (Diccionario)** | `print(persona[\"nombre\"])`<br><br>`persona[\"ciudad\"] = \"Madrid\"` | Acceso usando la **clave**.<br><br>Añadir o modificar un par. |"
      ],
      "metadata": {
        "id": "jmIDKjEWAeAN"
      }
    },
    {
      "cell_type": "markdown",
      "source": [
        "# 2. Control de Flujo: Condicionales y Bucles"
      ],
      "metadata": {
        "id": "6FFcLrifByRZ"
      }
    },
    {
      "cell_type": "markdown",
      "source": [
        "### Sentencias Condicionales"
      ],
      "metadata": {
        "id": "f_dEtgHKCH9Z"
      }
    },
    {
      "cell_type": "markdown",
      "source": [
        "| Estructura | Código de Ejemplo | Explicación |\n",
        "| :--- | :--- | :--- |\n",
        "| **`if` y `else`** | `temperatura = 35`<br><br>`if temperatura > 30:`<br><br>`  print(\"Hace calor\")`<br><br>`else:`<br><br>`  print(\"Temperatura agradable\")` | Ejecuta un bloque si la condición es `True`, sino, el otro. |\n",
        "| **`elif`** | `hora = 14`<br><br>`if hora < 12:`<br><br>`  print(\"Mañana\")`<br><br>`elif hora < 18:`<br><br>`  print(\"Tarde\")`<br><br>`else:`<br><br>`  print(\"Noche\")` | Evalúa múltiples condiciones secuencialmente. |"
      ],
      "metadata": {
        "id": "_Ol4yyQQCOSY"
      }
    },
    {
      "cell_type": "code",
      "source": [
        "edad = 16\n",
        "tiene_entrada = True\n",
        "\n",
        "if edad >= 18 or tiene_entrada:\n",
        "    print(\"Puedes entrar al concierto.\")\n",
        "else:\n",
        "    print(\"No puedes entrar.\")\n"
      ],
      "metadata": {
        "colab": {
          "base_uri": "https://localhost:8080/"
        },
        "id": "xmFws6nRrhoE",
        "outputId": "eb8d4ff2-4921-408f-9884-1c5d3dc85dca"
      },
      "execution_count": null,
      "outputs": [
        {
          "output_type": "stream",
          "name": "stdout",
          "text": [
            "Puedes entrar al concierto.\n"
          ]
        }
      ]
    },
    {
      "cell_type": "code",
      "source": [
        "temperatura =36\n",
        "if temperatura > 30:\n",
        "      if temperatura > 35:\n",
        "        print(\"Hace mucho calor\")\n",
        "      else:\n",
        "         print(\"Hace calor\")\n",
        "elif temperatura <10:\n",
        "  print(\"hace frio\")\n",
        "else:\n",
        "    print(\"Temperatura agradable\")"
      ],
      "metadata": {
        "colab": {
          "base_uri": "https://localhost:8080/"
        },
        "id": "8AQWfnaKtBBv",
        "outputId": "fea6234b-17e4-465d-853e-a76f76a7f4d0"
      },
      "execution_count": null,
      "outputs": [
        {
          "output_type": "stream",
          "name": "stdout",
          "text": [
            "Hace mucho calor\n"
          ]
        }
      ]
    },
    {
      "cell_type": "markdown",
      "source": [
        "### Bucle *for* (Iteración Definida)"
      ],
      "metadata": {
        "id": "1tLhyGZVC4AQ"
      }
    },
    {
      "cell_type": "markdown",
      "source": [
        "| Concepto | Código de Ejemplo | Explicación |\n",
        "| :--- | :--- | :--- |\n",
        "| **Iterar Lista** | `colores = [\"rojo\", \"azul\"]`<br><br>`for color in colores:`<br><br>`  print(f\"Me gusta el color {color}\")` | Recorre cada elemento de la colección. |\n",
        "| **Iterar Rango** | `for i in range(3):`<br><br>`  print(i)` | Imprime `0`, `1`, `2`. Útil para repetir un número fijo de veces. |"
      ],
      "metadata": {
        "id": "HePFqPglEB5f"
      }
    },
    {
      "cell_type": "code",
      "source": [
        "colores = [\"rojo\", \"azul\"]\n",
        "for color in colores:\n",
        "    print(f\"Me gusta el color {color}\")"
      ],
      "metadata": {
        "colab": {
          "base_uri": "https://localhost:8080/"
        },
        "id": "ejTR_CTZu37W",
        "outputId": "466c84d9-b2ba-4cfb-ccc1-eddf651ab543"
      },
      "execution_count": null,
      "outputs": [
        {
          "output_type": "stream",
          "name": "stdout",
          "text": [
            "Me gusta el color rojo\n",
            "Me gusta el color azul\n"
          ]
        }
      ]
    },
    {
      "cell_type": "markdown",
      "source": [
        "### Bucle while (Iteración Condicional)"
      ],
      "metadata": {
        "id": "Aq66HQAZF-ac"
      }
    },
    {
      "cell_type": "markdown",
      "source": [
        "| Concepto | Código de Ejemplo | Explicación |\n",
        "| :--- | :--- | :--- |\n",
        "| **Bucle Básico** | `contador = 0`<br><br>`while contador < 3:`<br><br>`  print(contador)`<br><br>`  contador = contador + 1` | Repite el código mientras la condición (`contador < 3`) sea `True`. |"
      ],
      "metadata": {
        "id": "pTV5RoEmF8ug"
      }
    },
    {
      "cell_type": "code",
      "source": [
        "contador = 0\n",
        "while contador < 5:\n",
        "    print(contador)\n",
        "    contador+= 1"
      ],
      "metadata": {
        "colab": {
          "base_uri": "https://localhost:8080/"
        },
        "id": "0_nVx1GiwGKf",
        "outputId": "427c9978-f853-42e1-e008-d870366fbf70"
      },
      "execution_count": null,
      "outputs": [
        {
          "output_type": "stream",
          "name": "stdout",
          "text": [
            "0\n",
            "1\n",
            "2\n",
            "3\n",
            "4\n"
          ]
        }
      ]
    },
    {
      "cell_type": "markdown",
      "source": [
        "### Control de Bucles"
      ],
      "metadata": {
        "id": "Xb1-nlH12U7-"
      }
    },
    {
      "cell_type": "markdown",
      "source": [
        "| Sentencia | Código de Ejemplo | Explicación |\n",
        "| :--- | :--- | :--- |\n",
        "| **`break`** | `for i in range(5):`<br><br>`  if i == 3: break`<br><br>`  print(i)` | **Detiene** la ejecución del bucle por completo. Imprime `0, 1, 2`. |\n",
        "| **`continue`** | `for i in range(5):`<br><br>`  if i == 3: continue`<br><br>`  print(i)` | **Salta** la iteración actual y pasa a la siguiente. Imprime `0, 1, 2, 4`. |"
      ],
      "metadata": {
        "id": "ZrWIeeMI2Yk7"
      }
    },
    {
      "cell_type": "markdown",
      "source": [
        "# 3. Funciones (Modularidad)"
      ],
      "metadata": {
        "id": "96nzT106Gdlb"
      }
    },
    {
      "cell_type": "markdown",
      "source": [
        "| Concepto | Código de Ejemplo | Explicación |\n",
        "| :--- | :--- | :--- |\n",
        "| **Definición** | `def saludar():`<br><br>`  print(\"¡Hola!\")`<br><br>`saludar()` | Define la función. El código se ejecuta solo al **llamarla** (`saludar()`). |\n",
        "| **Con Parámetros** | `def sumar(a, b):`<br><br>`  resultado = a + b`<br><br>`  print(resultado)`<br><br>`sumar(5, 3)` | La función recibe `a` y `b` como **argumentos**. |\n",
        "| **Con Retorno** | `def multiplicar(x, y):`<br><br>`  return x * y`<br><br>`valor = multiplicar(4, 2)`<br><br>`print(valor)` | La palabra clave **`return`** devuelve un valor que puede ser usado fuera de la función. |\n",
        "| **Parámetros por Defecto** | `def potencia(base, exp=2):`<br><br>`  return base ** exp`<br><br>`print(potencia(3))` | Si no se proporciona `exp`, usa el valor por defecto (`2`). |"
      ],
      "metadata": {
        "id": "F0LXSt0DGctL"
      }
    }
  ]
}